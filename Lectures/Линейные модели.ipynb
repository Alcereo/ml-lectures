{
 "cells": [
  {
   "cell_type": "markdown",
   "metadata": {},
   "source": [
    "## Логические методы классификации"
   ]
  },
  {
   "cell_type": "markdown",
   "metadata": {},
   "source": [
    "`Логическая закономерность (rule)` - предикат, удовлетворящий требованиям.\n",
    "\n",
    "Пусть:  \n",
    "$\\varphi$ - предикат  \n",
    "$P_c$ - Число объектов класса $c$ в выборке\n",
    "$p_c(\\varphi)$ - Число объектов, которое было успешно определено алгоритмом, т.е. $\\varphi(x)=1$  \n",
    "$N_c(\\varphi)$ - Число объектов, отличных от класса $c$  \n",
    "$n_c(\\varphi)$ - Объектов, которые ошибочно определены, т.е. не пренадлежат классу $c$, но предикат $\\varphi(x)=1$  \n",
    "\n",
    "Информативность предиката $\\varphi$ тем выше, чем больше $p$ и меньше $n$\n",
    "\n",
    "---\n",
    "\n",
    "Для практики рассмотри тестовые данные `iris`. Возьмем два предиката\n",
    "$$\\varphi^1(x)=[x[3]<1.1]$$\n",
    "$$\\varphi^2(x)=[x[1]<3]$$"
   ]
  },
  {
   "cell_type": "code",
   "execution_count": 5,
   "metadata": {},
   "outputs": [
    {
     "data": {
      "image/png": "[encoded data removed]",
      "text/plain": [
       "<matplotlib.figure.Figure at 0x7f613dcee0f0>"
      ]
     },
     "metadata": {},
     "output_type": "display_data"
    }
   ],
   "source": [
    "import sklearn.datasets as datasets\n",
    "import matplotlib.pyplot as plt\n",
    "import numpy as np\n",
    "\n",
    "\n",
    "iris = datasets.load_iris()\n",
    "\n",
    "f1 = lambda x: x[:, 3] < 1.1\n",
    "f2 = lambda x: x[:, 1] > 3\n",
    "\n",
    "classes, counts = np.unique(iris.target, return_counts=True)\n",
    "\n",
    "P = counts[0]\n",
    "N = np.sum(counts) - P\n",
    "\n",
    "X0 = iris.target == 0\n",
    "Xun0 = iris.target != 0\n",
    "\n",
    "p1 = np.sum(f1(iris.data[X0]))\n",
    "n1 = np.sum(f1(iris.data[Xun0]))\n",
    "\n",
    "p2 = np.sum(f2(iris.data[X0]))\n",
    "n2 = np.sum(f2(iris.data[Xun0]))\n",
    "\n",
    "E1 = n1/(p1+n1)\n",
    "D1 = p1/(N+P)\n",
    "\n",
    "E2 = n2/(p2+n2)\n",
    "D2 = p2/(N+P)\n",
    "\n",
    " # PLOT\n",
    "plt.figure(figsize=(20,8))\n",
    "\n",
    "plt.plot(list(range(iris.data.shape[0])), iris.data[:, 0], \".\", color='blue');\n",
    "plt.plot(list(range(iris.data.shape[0])), iris.data[:, 1], \".\", color='green');\n",
    "plt.plot(list(range(iris.data.shape[0])), iris.data[:, 2], \".\", color='red');\n",
    "plt.plot(list(range(iris.data.shape[0])), iris.data[:, 3], \".\", color='grey');\n",
    "plt.show();"
   ]
  },
  {
   "cell_type": "markdown",
   "metadata": {
    "hide_input": false,
    "variables": {
     "100": {}
    }
   },
   "source": [
    "Введём обозначение $E_c$ для доли негативных среди всех выделяемых объектов,\n",
    "и $D_c$ для доли выделяемых позитивных объектов:\n",
    "$$E_c(\\varphi, X^l)=\\frac{n_c(\\varphi)}{p_c(\\varphi)+n_c(\\varphi)}$$\n",
    "$$D_c(\\varphi, X^l)=\\frac{p_c(\\varphi)}{l}$$\n",
    "\n",
    "---\n",
    "\n",
    "В нашем случае:"
   ]
  },
  {
   "cell_type": "code",
   "execution_count": 44,
   "metadata": {
    "hide_input": false,
    "collapsed": false
   },
   "outputs": [
    {
     "data": {
      "text/markdown": [
       "\n$P$ =    50  \n$N$ =   100  \n\n$p_1$ =    50  \n$n_1$ =     7   \n$E_1$ = 0.123 ; $D_1$ = 0.333  \n\n$p_2$ =    42   \n$n_2$ =    25  \n$E_2$ = 0.373 ; $D_2$ = 0.280\n"
      ],
      "text/plain": [
       "<IPython.core.display.Markdown object>"
      ]
     },
     "metadata": {},
     "output_type": "display_data"
    }
   ],
   "source": [
    "from IPython.display import Markdown\n",
    "\n",
    "Markdown(\"\"\"\n",
    "$P$ =%6.0f  \n",
    "$N$ =%6.0f  \n",
    "\n",
    "$p_1$ =%6.0f  \n",
    "$n_1$ =%6.0f   \n",
    "$E_1$ =%6.3f ; $D_1$ =%6.3f  \n",
    "\n",
    "$p_2$ =%6.0f   \n",
    "$n_2$ =%6.0f  \n",
    "$E_2$ =%6.3f ; $D_2$ =%6.3f\n",
    "\"\"\" % (P, \n",
    "       N, \n",
    "       p1, n1, \n",
    "       E1, D1,\n",
    "       p2, n2,\n",
    "       E2, D2\n",
    "       ))"
   ]
  },
  {
   "cell_type": "code",
   "execution_count": 82,
   "metadata": {},
   "outputs": [],
   "source": [
    "# from scipy.special import bi\n",
    "from math import log\n",
    "from scipy.special import binom\n",
    "\n",
    "I1 = -log(binom(P, p1)*binom(N, n1)/(binom(P+N, p1+n1)));\n",
    "I2 = -log(binom(P, p2)*binom(N, n2)/(binom(P+N, p2+n2)));\n",
    "\n",
    "I_max = -log(binom(P, P)*binom(N, 0)/(binom(P+N, P)));"
   ]
  },
  {
   "cell_type": "markdown",
   "metadata": {},
   "source": [
    "Предикат определяется как статическая закономерность в случае выполнения теста Фишера.  \n",
    "Формула коэффициента:\n",
    "$$I_c = -ln(\\frac{-ln(C^p_PC_N^n)}{C_{P+N}^{p+n}})$$\n",
    "\n",
    "В нашем случае коэффициенты: "
   ]
  },
  {
   "cell_type": "code",
   "execution_count": 83,
   "metadata": {},
   "outputs": [
    {
     "data": {
      "text/markdown": [
       "\n$I_{max}$=92.803  \n$I_{nim}$=0\n\n$I_1$=73.410  \n\n$I_2$=26.443 \n"
      ],
      "text/plain": [
       "<IPython.core.display.Markdown object>"
      ]
     },
     "metadata": {},
     "output_type": "display_data"
    }
   ],
   "source": [
    "Markdown(\"\"\"\n",
    "$I_{max}$=%6.3f  \n",
    "$I_{nim}$=0\n",
    "\n",
    "$I_1$=%6.3f   \n",
    "\n",
    "$I_2$=%6.3f \n",
    "\"\"\" % (I_max,\n",
    "       I1,\n",
    "       I2\n",
    "       ))"
   ]
  },
  {
   "cell_type": "markdown",
   "metadata": {},
   "source": [
    "   \n",
    "#### Основные вопросы построения логических алгоритмов\n",
    "\n",
    "\n",
    "#### Идея поиска информативных закономерностей\n",
    "\n",
    "\n",
    "#### Бинарное решающее дерево\n",
    "![Spectacle.E25816.png](attachment:Spectacle.E25816.png)"
   ]
  }
 ],
 "metadata": {
  "hide_input": false,
  "kernelspec": {
   "display_name": "Python 3",
   "language": "python",
   "name": "python3"
  },
  "language_info": {
   "codemirror_mode": {
    "name": "ipython",
    "version": 3.0
   },
   "file_extension": ".py",
   "mimetype": "text/x-python",
   "name": "python",
   "nbconvert_exporter": "python",
   "pygments_lexer": "ipython3",
   "version": "3.6.2"
  }
 },
 "nbformat": 4,
 "nbformat_minor": 0
}